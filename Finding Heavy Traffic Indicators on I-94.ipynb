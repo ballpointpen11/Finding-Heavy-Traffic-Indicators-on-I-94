{
 "cells": [
  {
   "cell_type": "markdown",
   "id": "c9c98f1e",
   "metadata": {},
   "source": [
    "# Finding Heavy Traffic Indicators on I-94\n",
    "In this project, we're going to analyze a dataset about the westbound traffic on the I-94 Interstate highway.\n",
    "\n",
    "The goal of this project is to determine a few indicators of heavy traffic on I-94.  These indicators will range from weather types and times of the day/week.  \n",
    "\n",
    "The dataset was made available from the [UCI Machine Learning Repository.](https://archive.ics.uci.edu/ml/datasets/Metro+Interstate+Traffic+Volume)"
   ]
  },
  {
   "cell_type": "markdown",
   "id": "80b42298",
   "metadata": {},
   "source": [
    "### Importing and Reading the dataset"
   ]
  },
  {
   "cell_type": "code",
   "execution_count": 1,
   "id": "abc15843",
   "metadata": {},
   "outputs": [],
   "source": [
    "# Importing Pandas to use on the dataset.\n",
    "import pandas as pd\n",
    "# Importing Matplotlib to help generate plots.\n",
    "import matplotlib.pyplot as plt\n",
    "# Reading in the data set and assign it to the variable: traffic.\n",
    "traffic = pd.read_csv('Metro_Interstate_Traffic_Volume.csv')"
   ]
  },
  {
   "cell_type": "code",
   "execution_count": 2,
   "id": "f95b401b",
   "metadata": {},
   "outputs": [
    {
     "data": {
      "text/html": [
       "<div>\n",
       "<style scoped>\n",
       "    .dataframe tbody tr th:only-of-type {\n",
       "        vertical-align: middle;\n",
       "    }\n",
       "\n",
       "    .dataframe tbody tr th {\n",
       "        vertical-align: top;\n",
       "    }\n",
       "\n",
       "    .dataframe thead th {\n",
       "        text-align: right;\n",
       "    }\n",
       "</style>\n",
       "<table border=\"1\" class=\"dataframe\">\n",
       "  <thead>\n",
       "    <tr style=\"text-align: right;\">\n",
       "      <th></th>\n",
       "      <th>holiday</th>\n",
       "      <th>temp</th>\n",
       "      <th>rain_1h</th>\n",
       "      <th>snow_1h</th>\n",
       "      <th>clouds_all</th>\n",
       "      <th>weather_main</th>\n",
       "      <th>weather_description</th>\n",
       "      <th>date_time</th>\n",
       "      <th>traffic_volume</th>\n",
       "    </tr>\n",
       "  </thead>\n",
       "  <tbody>\n",
       "    <tr>\n",
       "      <th>0</th>\n",
       "      <td>None</td>\n",
       "      <td>288.28</td>\n",
       "      <td>0.0</td>\n",
       "      <td>0.0</td>\n",
       "      <td>40</td>\n",
       "      <td>Clouds</td>\n",
       "      <td>scattered clouds</td>\n",
       "      <td>2012-10-02 09:00:00</td>\n",
       "      <td>5545</td>\n",
       "    </tr>\n",
       "    <tr>\n",
       "      <th>1</th>\n",
       "      <td>None</td>\n",
       "      <td>289.36</td>\n",
       "      <td>0.0</td>\n",
       "      <td>0.0</td>\n",
       "      <td>75</td>\n",
       "      <td>Clouds</td>\n",
       "      <td>broken clouds</td>\n",
       "      <td>2012-10-02 10:00:00</td>\n",
       "      <td>4516</td>\n",
       "    </tr>\n",
       "    <tr>\n",
       "      <th>2</th>\n",
       "      <td>None</td>\n",
       "      <td>289.58</td>\n",
       "      <td>0.0</td>\n",
       "      <td>0.0</td>\n",
       "      <td>90</td>\n",
       "      <td>Clouds</td>\n",
       "      <td>overcast clouds</td>\n",
       "      <td>2012-10-02 11:00:00</td>\n",
       "      <td>4767</td>\n",
       "    </tr>\n",
       "    <tr>\n",
       "      <th>3</th>\n",
       "      <td>None</td>\n",
       "      <td>290.13</td>\n",
       "      <td>0.0</td>\n",
       "      <td>0.0</td>\n",
       "      <td>90</td>\n",
       "      <td>Clouds</td>\n",
       "      <td>overcast clouds</td>\n",
       "      <td>2012-10-02 12:00:00</td>\n",
       "      <td>5026</td>\n",
       "    </tr>\n",
       "    <tr>\n",
       "      <th>4</th>\n",
       "      <td>None</td>\n",
       "      <td>291.14</td>\n",
       "      <td>0.0</td>\n",
       "      <td>0.0</td>\n",
       "      <td>75</td>\n",
       "      <td>Clouds</td>\n",
       "      <td>broken clouds</td>\n",
       "      <td>2012-10-02 13:00:00</td>\n",
       "      <td>4918</td>\n",
       "    </tr>\n",
       "  </tbody>\n",
       "</table>\n",
       "</div>"
      ],
      "text/plain": [
       "  holiday    temp  rain_1h  snow_1h  clouds_all weather_main  \\\n",
       "0    None  288.28      0.0      0.0          40       Clouds   \n",
       "1    None  289.36      0.0      0.0          75       Clouds   \n",
       "2    None  289.58      0.0      0.0          90       Clouds   \n",
       "3    None  290.13      0.0      0.0          90       Clouds   \n",
       "4    None  291.14      0.0      0.0          75       Clouds   \n",
       "\n",
       "  weather_description            date_time  traffic_volume  \n",
       "0    scattered clouds  2012-10-02 09:00:00            5545  \n",
       "1       broken clouds  2012-10-02 10:00:00            4516  \n",
       "2     overcast clouds  2012-10-02 11:00:00            4767  \n",
       "3     overcast clouds  2012-10-02 12:00:00            5026  \n",
       "4       broken clouds  2012-10-02 13:00:00            4918  "
      ]
     },
     "execution_count": 2,
     "metadata": {},
     "output_type": "execute_result"
    }
   ],
   "source": [
    "traffic.head(5)"
   ]
  },
  {
   "cell_type": "code",
   "execution_count": 3,
   "id": "7004c47a",
   "metadata": {},
   "outputs": [
    {
     "data": {
      "text/html": [
       "<div>\n",
       "<style scoped>\n",
       "    .dataframe tbody tr th:only-of-type {\n",
       "        vertical-align: middle;\n",
       "    }\n",
       "\n",
       "    .dataframe tbody tr th {\n",
       "        vertical-align: top;\n",
       "    }\n",
       "\n",
       "    .dataframe thead th {\n",
       "        text-align: right;\n",
       "    }\n",
       "</style>\n",
       "<table border=\"1\" class=\"dataframe\">\n",
       "  <thead>\n",
       "    <tr style=\"text-align: right;\">\n",
       "      <th></th>\n",
       "      <th>holiday</th>\n",
       "      <th>temp</th>\n",
       "      <th>rain_1h</th>\n",
       "      <th>snow_1h</th>\n",
       "      <th>clouds_all</th>\n",
       "      <th>weather_main</th>\n",
       "      <th>weather_description</th>\n",
       "      <th>date_time</th>\n",
       "      <th>traffic_volume</th>\n",
       "    </tr>\n",
       "  </thead>\n",
       "  <tbody>\n",
       "    <tr>\n",
       "      <th>48199</th>\n",
       "      <td>None</td>\n",
       "      <td>283.45</td>\n",
       "      <td>0.0</td>\n",
       "      <td>0.0</td>\n",
       "      <td>75</td>\n",
       "      <td>Clouds</td>\n",
       "      <td>broken clouds</td>\n",
       "      <td>2018-09-30 19:00:00</td>\n",
       "      <td>3543</td>\n",
       "    </tr>\n",
       "    <tr>\n",
       "      <th>48200</th>\n",
       "      <td>None</td>\n",
       "      <td>282.76</td>\n",
       "      <td>0.0</td>\n",
       "      <td>0.0</td>\n",
       "      <td>90</td>\n",
       "      <td>Clouds</td>\n",
       "      <td>overcast clouds</td>\n",
       "      <td>2018-09-30 20:00:00</td>\n",
       "      <td>2781</td>\n",
       "    </tr>\n",
       "    <tr>\n",
       "      <th>48201</th>\n",
       "      <td>None</td>\n",
       "      <td>282.73</td>\n",
       "      <td>0.0</td>\n",
       "      <td>0.0</td>\n",
       "      <td>90</td>\n",
       "      <td>Thunderstorm</td>\n",
       "      <td>proximity thunderstorm</td>\n",
       "      <td>2018-09-30 21:00:00</td>\n",
       "      <td>2159</td>\n",
       "    </tr>\n",
       "    <tr>\n",
       "      <th>48202</th>\n",
       "      <td>None</td>\n",
       "      <td>282.09</td>\n",
       "      <td>0.0</td>\n",
       "      <td>0.0</td>\n",
       "      <td>90</td>\n",
       "      <td>Clouds</td>\n",
       "      <td>overcast clouds</td>\n",
       "      <td>2018-09-30 22:00:00</td>\n",
       "      <td>1450</td>\n",
       "    </tr>\n",
       "    <tr>\n",
       "      <th>48203</th>\n",
       "      <td>None</td>\n",
       "      <td>282.12</td>\n",
       "      <td>0.0</td>\n",
       "      <td>0.0</td>\n",
       "      <td>90</td>\n",
       "      <td>Clouds</td>\n",
       "      <td>overcast clouds</td>\n",
       "      <td>2018-09-30 23:00:00</td>\n",
       "      <td>954</td>\n",
       "    </tr>\n",
       "  </tbody>\n",
       "</table>\n",
       "</div>"
      ],
      "text/plain": [
       "      holiday    temp  rain_1h  snow_1h  clouds_all  weather_main  \\\n",
       "48199    None  283.45      0.0      0.0          75        Clouds   \n",
       "48200    None  282.76      0.0      0.0          90        Clouds   \n",
       "48201    None  282.73      0.0      0.0          90  Thunderstorm   \n",
       "48202    None  282.09      0.0      0.0          90        Clouds   \n",
       "48203    None  282.12      0.0      0.0          90        Clouds   \n",
       "\n",
       "          weather_description            date_time  traffic_volume  \n",
       "48199           broken clouds  2018-09-30 19:00:00            3543  \n",
       "48200         overcast clouds  2018-09-30 20:00:00            2781  \n",
       "48201  proximity thunderstorm  2018-09-30 21:00:00            2159  \n",
       "48202         overcast clouds  2018-09-30 22:00:00            1450  \n",
       "48203         overcast clouds  2018-09-30 23:00:00             954  "
      ]
     },
     "execution_count": 3,
     "metadata": {},
     "output_type": "execute_result"
    }
   ],
   "source": [
    "traffic.tail(5)"
   ]
  },
  {
   "cell_type": "code",
   "execution_count": 4,
   "id": "f5f27711",
   "metadata": {},
   "outputs": [
    {
     "name": "stdout",
     "output_type": "stream",
     "text": [
      "<class 'pandas.core.frame.DataFrame'>\n",
      "RangeIndex: 48204 entries, 0 to 48203\n",
      "Data columns (total 9 columns):\n",
      " #   Column               Non-Null Count  Dtype  \n",
      "---  ------               --------------  -----  \n",
      " 0   holiday              48204 non-null  object \n",
      " 1   temp                 48204 non-null  float64\n",
      " 2   rain_1h              48204 non-null  float64\n",
      " 3   snow_1h              48204 non-null  float64\n",
      " 4   clouds_all           48204 non-null  int64  \n",
      " 5   weather_main         48204 non-null  object \n",
      " 6   weather_description  48204 non-null  object \n",
      " 7   date_time            48204 non-null  object \n",
      " 8   traffic_volume       48204 non-null  int64  \n",
      "dtypes: float64(3), int64(2), object(4)\n",
      "memory usage: 3.3+ MB\n"
     ]
    }
   ],
   "source": [
    "traffic.info()"
   ]
  },
  {
   "cell_type": "markdown",
   "id": "746b3c5f",
   "metadata": {},
   "source": [
    "Above we can see the first five and last five rows, as well as info, about the dataset.  There are 48,203 rows and 10 columns.  The descriptions of what the columns mean will help introduce what is being described in this dataset:\n",
    "- holiday: Categorical US National holidays plus regional holiday, Minnesota State Fair.\n",
    "- temp: Numeric Average temp in Kelvin.\n",
    "- rain_1h: Numeric Amount in mm of rain that occurred in the hour.\n",
    "- snow_1h: Numeric Amount in mm of snow that occurred in the hour.\n",
    "- clouds_all: Numeric Percentage of cloud cover.\n",
    "- weather_main: Categorical Short textual description of the current weather.\n",
    "- weather_description: Categorical Longer textual description of the current weather.\n",
    "- date_time: DateTime Hour of the data collected in local CST time.\n",
    "- traffic_volume: Numeric Hourly I-94 ATR 301 reported westbound traffic volume."
   ]
  },
  {
   "cell_type": "markdown",
   "id": "55b6570d",
   "metadata": {},
   "source": [
    "### Analyzing Traffic Volume"
   ]
  },
  {
   "cell_type": "code",
   "execution_count": 5,
   "id": "4f776bae",
   "metadata": {},
   "outputs": [
    {
     "data": {
      "image/png": "[encoded data removed]",
      "text/plain": [
       "<Figure size 432x288 with 1 Axes>"
      ]
     },
     "metadata": {
      "needs_background": "light"
     },
     "output_type": "display_data"
    }
   ],
   "source": [
    "# Importing matplotlib so we can generate graphs.\n",
    "import matplotlib.pyplot as plt\n",
    "%matplotlib inline\n",
    "\n",
    "# Generating a histogram for the 'traffic_volumn' column using a Pandas method.\n",
    "traffic['traffic_volume'].plot.hist()\n",
    "plt.xlabel('Traffic Volume')\n",
    "plt.show()"
   ]
  },
  {
   "cell_type": "code",
   "execution_count": 6,
   "id": "9e038b82",
   "metadata": {},
   "outputs": [
    {
     "data": {
      "text/plain": [
       "count    48204.000000\n",
       "mean      3259.818355\n",
       "std       1986.860670\n",
       "min          0.000000\n",
       "25%       1193.000000\n",
       "50%       3380.000000\n",
       "75%       4933.000000\n",
       "max       7280.000000\n",
       "Name: traffic_volume, dtype: float64"
      ]
     },
     "execution_count": 6,
     "metadata": {},
     "output_type": "execute_result"
    }
   ],
   "source": [
    "# Using the '.describe()' method to look up some stats about the 'traffic_volume' column.\n",
    "traffic['traffic_volume'].describe()"
   ]
  },
  {
   "cell_type": "markdown",
   "id": "9a90988d",
   "metadata": {},
   "source": [
    "This dataset shows a specific section of westbound traffic from October 2, 2012 at 9am to September 30, 2018 at 11pm CST.  The histogram shows that traffic volumes between 0-1000 and 4500-5100 have the highest frequencies.  The average traffic volume is about 3300 and the max traffic volume is 7280.\n",
    "\n",
    "Before looking at how daytime and nighttime influence traffic volume, I would believe that these times would effect traffic volume.  The histogram, as previously noted, shows a spike in traffic volume between 0-1000 and 4500-5100.  I am assuming that the low traffic volume spike is around afternoon and late night times while the high traffic spike is during the morning commute and evening rush hour after work"
   ]
  },
  {
   "cell_type": "markdown",
   "id": "57bbb830",
   "metadata": {},
   "source": [
    "### Traffic Volume: Day vs. Night\n",
    "\n",
    "We will divide the dataset into two parts, this will give us a good starting point to look at day and night differences:\n",
    "- Daytime data: hours from 7am to 7pm, or 07:00 to 19:00\n",
    "- Nighttime data: hours from 7pm to 7am, or 19:00 to 07:00"
   ]
  },
  {
   "cell_type": "code",
   "execution_count": 7,
   "id": "f1e409fa",
   "metadata": {},
   "outputs": [
    {
     "name": "stdout",
     "output_type": "stream",
     "text": [
      "(25838, 9)\n",
      "(22366, 9)\n"
     ]
    }
   ],
   "source": [
    "# Splitting the dataset into daytime and nighttime.\n",
    "traffic['date_time'] = pd.to_datetime(traffic['date_time'])\n",
    "\n",
    "daytime = traffic[(traffic['date_time'].dt.hour >= 7) & (traffic['date_time'].dt.hour <= 19)]\n",
    "print(daytime.shape)\n",
    "nighttime = traffic[(traffic['date_time'].dt.hour > 19) | (traffic['date_time'].dt.hour < 7)]\n",
    "print(nighttime.shape)"
   ]
  },
  {
   "cell_type": "code",
   "execution_count": 8,
   "id": "ed20d1c4",
   "metadata": {},
   "outputs": [
    {
     "data": {
      "image/png": "[encoded data removed]",
      "text/plain": [
       "<Figure size 792x252 with 2 Axes>"
      ]
     },
     "metadata": {
      "needs_background": "light"
     },
     "output_type": "display_data"
    }
   ],
   "source": [
    "# Creating two histograms side-by-side in a grid chart to make it easier to compare.\n",
    "plt.figure(figsize=(11,3.5))\n",
    "# The first histogram.\n",
    "plt.subplot(1,2,1)\n",
    "plt.hist(daytime['traffic_volume'])\n",
    "plt.xlim(0,8000)\n",
    "plt.ylim(0,8000)\n",
    "plt.title('Traffic Volume: Daytime')\n",
    "plt.ylabel('Cars per Hour')\n",
    "plt.xlabel('Traffic Volume')\n",
    "\n",
    "# The second histogram.\n",
    "plt.subplot(1,2,2)\n",
    "plt.hist(nighttime['traffic_volume'])\n",
    "plt.xlim(0,8000)\n",
    "plt.ylim(0,8000)\n",
    "plt.title('Traffic Volume: Nighttime')\n",
    "plt.ylabel('Cars per Hour')\n",
    "plt.xlabel('Traffic Volume')\n",
    "\n",
    "plt.show()"
   ]
  },
  {
   "cell_type": "code",
   "execution_count": 9,
   "id": "fd6f2476",
   "metadata": {},
   "outputs": [
    {
     "name": "stdout",
     "output_type": "stream",
     "text": [
      "Daytime Traffic Stats:\n",
      " count    25838.000000\n",
      "mean      4649.292360\n",
      "std       1202.321987\n",
      "min          0.000000\n",
      "25%       4021.000000\n",
      "50%       4736.000000\n",
      "75%       5458.000000\n",
      "max       7280.000000\n",
      "Name: traffic_volume, dtype: float64\n",
      "\n",
      "\n",
      "Nighttime Traffic Stats:\n",
      " count    22366.000000\n",
      "mean      1654.648484\n",
      "std       1425.175292\n",
      "min          0.000000\n",
      "25%        486.000000\n",
      "50%       1056.500000\n",
      "75%       2630.750000\n",
      "max       6386.000000\n",
      "Name: traffic_volume, dtype: float64\n"
     ]
    }
   ],
   "source": [
    "print(\"Daytime Traffic Stats:\\n\",daytime['traffic_volume'].describe())\n",
    "print('\\n')\n",
    "print(\"Nighttime Traffic Stats:\\n\",nighttime['traffic_volume'].describe())"
   ]
  },
  {
   "cell_type": "markdown",
   "id": "fcf67df0",
   "metadata": {},
   "source": [
    "Above, two traffic volume histograms were generated, one for the daytime hours and the other for nighttime hours.  The two graphs show opposing distributions.  The daytime graph is skewed towards the right, the nighttime graph is skewed to the left.  This means the frequency of dense traffic happens much more in the daytime than nighttime.  The statistics show that the mean traffic density in the daytime is about 2.5 times higher than the nighttime.  \n",
    "\n",
    "Since the traffic is very light at night and our goal is to find indicators of heavy traffic, I believe we should not use the nighttime data.  It is a very rare instance for dense traffic to take place at night."
   ]
  },
  {
   "cell_type": "markdown",
   "id": "eb398d48",
   "metadata": {},
   "source": [
    "## Time Indicators\n",
    "\n",
    "One of the possible indicators of heavy traffic is time. There might be more people on the road in a certain month, on a certain day, or at a certain time of the day.\n",
    "\n",
    "We're going to look at a few line plots showing how the traffic volume changed according to the following parameters:\n",
    "\n",
    "- Month\n",
    "- Day of the week\n",
    "- Time of day\n"
   ]
  },
  {
   "cell_type": "markdown",
   "id": "732858ae",
   "metadata": {},
   "source": [
    "###  - Month"
   ]
  },
  {
   "cell_type": "code",
   "execution_count": 10,
   "id": "30dcf6f4",
   "metadata": {},
   "outputs": [
    {
     "name": "stderr",
     "output_type": "stream",
     "text": [
      "<ipython-input-10-b27826b7ea39>:3: SettingWithCopyWarning: \n",
      "A value is trying to be set on a copy of a slice from a DataFrame.\n",
      "Try using .loc[row_indexer,col_indexer] = value instead\n",
      "\n",
      "See the caveats in the documentation: https://pandas.pydata.org/pandas-docs/stable/user_guide/indexing.html#returning-a-view-versus-a-copy\n",
      "  daytime['month'] = daytime['date_time'].dt.month\n"
     ]
    },
    {
     "data": {
      "text/plain": [
       "month\n",
       "1     4385.217310\n",
       "2     4593.187798\n",
       "3     4761.529676\n",
       "4     4771.232816\n",
       "5     4788.966639\n",
       "6     4791.087488\n",
       "7     4502.628360\n",
       "8     4818.434690\n",
       "9     4755.709916\n",
       "10    4809.481678\n",
       "11    4588.910486\n",
       "12    4276.567081\n",
       "Name: traffic_volume, dtype: float64"
      ]
     },
     "execution_count": 10,
     "metadata": {},
     "output_type": "execute_result"
    }
   ],
   "source": [
    "# Creating a new column where each value describes the month when the traffic volume measurement was taken.\n",
    "# Then grouping the dataset by the 'month' column with the mean as an aggregate function.\n",
    "daytime['month'] = daytime['date_time'].dt.month\n",
    "by_month = daytime.groupby('month').mean()\n",
    "by_month['traffic_volume']"
   ]
  },
  {
   "cell_type": "code",
   "execution_count": 11,
   "id": "b1e95596",
   "metadata": {},
   "outputs": [
    {
     "data": {
      "image/png": "[encoded data removed]",
      "text/plain": [
       "<Figure size 432x288 with 1 Axes>"
      ]
     },
     "metadata": {
      "needs_background": "light"
     },
     "output_type": "display_data"
    }
   ],
   "source": [
    "# Creating the line plot.\n",
    "plt.plot(by_month['traffic_volume'])\n",
    "plt.title('Average Traffic per Month',fontsize=14)\n",
    "plt.xlabel('Month',fontsize=14)\n",
    "plt.ylabel('Cars per Hour',fontsize=14)\n",
    "plt.xticks(ticks=[2,4,6,8,10,12],\n",
    "          labels=['February','April','June','August','October','December'],\n",
    "          rotation=30)\n",
    "plt.grid()\n",
    "plt.show()"
   ]
  },
  {
   "cell_type": "markdown",
   "id": "9dddab40",
   "metadata": {},
   "source": [
    "Above, we have printed out a list of the average traffic per month in this dataset.  The list shows every month has at least 4000 cars per hour, making it seem like a flat line with not much change per month.\n",
    "\n",
    "To visualize this list, we generated a line plot and it shows a different pattern.  The line plot shows low traffic from about November to January, after January, traffic dramatically rises.  Then from March to October there is a fairly high level of traffic except for a deep drop in July.  \n",
    "\n",
    "Certain months definitely effect traffic density, most likely due to weather and holidays.  The months with the highest traffic are during the summer months when it is not very cold, there are also summer vacation where families are more likely taking road trips.  "
   ]
  },
  {
   "cell_type": "markdown",
   "id": "54a94a9e",
   "metadata": {},
   "source": [
    "### - Day of the week"
   ]
  },
  {
   "cell_type": "code",
   "execution_count": 12,
   "id": "28ed9070",
   "metadata": {},
   "outputs": [
    {
     "name": "stderr",
     "output_type": "stream",
     "text": [
      "<ipython-input-12-687248ad186b>:2: SettingWithCopyWarning: \n",
      "A value is trying to be set on a copy of a slice from a DataFrame.\n",
      "Try using .loc[row_indexer,col_indexer] = value instead\n",
      "\n",
      "See the caveats in the documentation: https://pandas.pydata.org/pandas-docs/stable/user_guide/indexing.html#returning-a-view-versus-a-copy\n",
      "  daytime['dayofweek'] = daytime['date_time'].dt.dayofweek\n"
     ]
    },
    {
     "data": {
      "text/plain": [
       "dayofweek\n",
       "0    4746.208029\n",
       "1    5036.062431\n",
       "2    5141.231163\n",
       "3    5163.688063\n",
       "4    5161.533588\n",
       "5    3884.065668\n",
       "6    3410.368091\n",
       "Name: traffic_volume, dtype: float64"
      ]
     },
     "execution_count": 12,
     "metadata": {},
     "output_type": "execute_result"
    }
   ],
   "source": [
    "# Same process as above for the 'month' column, now with 'dayofweek' column.\n",
    "daytime['dayofweek'] = daytime['date_time'].dt.dayofweek\n",
    "by_dayofweek = daytime.groupby('dayofweek').mean()\n",
    "by_dayofweek['traffic_volume']"
   ]
  },
  {
   "cell_type": "code",
   "execution_count": 13,
   "id": "9ef571fa",
   "metadata": {},
   "outputs": [
    {
     "data": {
      "image/png": "[encoded data removed]",
      "text/plain": [
       "<Figure size 432x288 with 1 Axes>"
      ]
     },
     "metadata": {
      "needs_background": "light"
     },
     "output_type": "display_data"
    }
   ],
   "source": [
    "# Creating the line plot.\n",
    "plt.plot(by_dayofweek['traffic_volume'])\n",
    "plt.title('Average Traffic per Day of Week',fontsize=14)\n",
    "plt.xlabel('Day',fontsize=14)\n",
    "plt.ylabel('Cars per Hour',fontsize=14)\n",
    "plt.xticks(ticks=[0,1,2,3,4,5,6],\n",
    "          labels=['Monday','Tuesday','Wednesday','Thursday','Friday','Saturday','Sunday'],\n",
    "          rotation=30)\n",
    "plt.grid()\n",
    "plt.show()"
   ]
  },
  {
   "cell_type": "markdown",
   "id": "c6d91dd3",
   "metadata": {},
   "source": [
    "The line plot shows that during the work week, traffic is consistently high.  After Friday the traffic takes a steep drop to Saturday and falls even lower on Sunday.  Since most people need to drive to work during the work week, it does not fluctuate.  When people are not working, it is not necessary for as many for people to drive as consistently."
   ]
  },
  {
   "cell_type": "markdown",
   "id": "800974c3",
   "metadata": {},
   "source": [
    "### - Time of day\n",
    "\n",
    "We'll now generate a line plot for the time of day. The weekends, however, will drag down the average values, so we're going to look at the averages separately. To do that, we'll start by splitting the data based on the day type: business day or weekend."
   ]
  },
  {
   "cell_type": "code",
   "execution_count": 14,
   "id": "170db792",
   "metadata": {},
   "outputs": [
    {
     "name": "stdout",
     "output_type": "stream",
     "text": [
      "Business day hours:\n",
      " hour\n",
      "7     6030.413559\n",
      "8     5503.497970\n",
      "9     4895.269257\n",
      "10    4378.419118\n",
      "11    4633.419470\n",
      "12    4855.382143\n",
      "13    4859.180473\n",
      "14    5152.995778\n",
      "15    5592.897768\n",
      "16    6189.473647\n",
      "17    5784.827133\n",
      "18    4434.209431\n",
      "19    3298.340426\n",
      "Name: traffic_volume, dtype: float64\n",
      "Weekend hours:\n",
      " hour\n",
      "7     1589.365894\n",
      "8     2338.578073\n",
      "9     3111.623917\n",
      "10    3686.632302\n",
      "11    4044.154955\n",
      "12    4372.482883\n",
      "13    4362.296564\n",
      "14    4358.543796\n",
      "15    4342.456881\n",
      "16    4339.693805\n",
      "17    4151.919929\n",
      "18    3811.792279\n",
      "19    3220.234120\n",
      "Name: traffic_volume, dtype: float64\n"
     ]
    },
    {
     "name": "stderr",
     "output_type": "stream",
     "text": [
      "<ipython-input-14-03742d8b4ca7>:2: SettingWithCopyWarning: \n",
      "A value is trying to be set on a copy of a slice from a DataFrame.\n",
      "Try using .loc[row_indexer,col_indexer] = value instead\n",
      "\n",
      "See the caveats in the documentation: https://pandas.pydata.org/pandas-docs/stable/user_guide/indexing.html#returning-a-view-versus-a-copy\n",
      "  daytime['hour'] = daytime['date_time'].dt.hour\n"
     ]
    }
   ],
   "source": [
    "# Splitting the data based on business day or weekend.\n",
    "daytime['hour'] = daytime['date_time'].dt.hour\n",
    "business_days = daytime.copy()[daytime['dayofweek'] <= 4] # 4 == Friday\n",
    "weekend = daytime.copy()[daytime['dayofweek'] >= 5] # 5 == Saturday\n",
    "by_hour_business = business_days.groupby('hour').mean()\n",
    "by_hour_weekend = weekend.groupby('hour').mean()\n",
    "print(\"Business day hours:\\n\",by_hour_business['traffic_volume'])\n",
    "print(\"Weekend hours:\\n\",by_hour_weekend['traffic_volume'])"
   ]
  },
  {
   "cell_type": "code",
   "execution_count": 15,
   "id": "6772c1cf",
   "metadata": {
    "scrolled": true
   },
   "outputs": [
    {
     "data": {
      "image/png": "[encoded data removed]",
      "text/plain": [
       "<Figure size 792x252 with 2 Axes>"
      ]
     },
     "metadata": {
      "needs_background": "light"
     },
     "output_type": "display_data"
    }
   ],
   "source": [
    "# Creating two histograms side-by-side in a grid chart to make it easier to compare.\n",
    "plt.figure(figsize=(11,3.5))\n",
    "# The first histogram.\n",
    "plt.subplot(1,2,1)\n",
    "plt.plot(by_hour_business['traffic_volume'])\n",
    "plt.xlim(6,20)\n",
    "plt.ylim(0,7000)\n",
    "plt.title('Traffic Volume: By Business Hour')\n",
    "plt.ylabel('Cars per Hour')\n",
    "plt.xlabel('Hour')\n",
    "\n",
    "# The second histogram.\n",
    "plt.subplot(1,2,2)\n",
    "plt.plot(by_hour_weekend['traffic_volume'])\n",
    "plt.xlim(6,20)\n",
    "plt.ylim(0,7000)\n",
    "plt.title('Traffic Volume: By Weekend Hour')\n",
    "plt.ylabel('Cars per Hour')\n",
    "plt.xlabel('Hour')\n",
    "\n",
    "plt.show()"
   ]
  },
  {
   "cell_type": "markdown",
   "id": "2705a01b",
   "metadata": {},
   "source": [
    "We generated two line plots showing the average traffic volume during hours on business days (Monday to Friday) and the weekend (Saturday + Sunday).  The two plots have the same the x- and y-ranges so you can see the differences easily.  Overall, average traffic density during business days is much higher than on the weekends.  Peak traffic during business hours is 6189 cars per hour at 16:00/4:00pm, peak traffic during weekend hours is 4372 cars per hour at 12:00/12:00pm.  \n",
    "\n",
    "Each line plot shows a different pattern.  Traffic volume during business hours peaks at 7 in the morning with 6030 cars per hour, wanes down to 4378, peaks again with 6189, and finally dips all that way to 3298.  This is most likely due to people driving to work in the morning and eventually leaving work to go home.\n",
    "\n",
    "Traffic volume during weekend hours starts with 1589 cars per hour at 07:00/7:00pm and peaks at 4372 at 12:00.  The traffic density stays relatively consistent until 18:00/6:00pm, staying above 4000 cars per hour.  Then density decreases as the day ends."
   ]
  },
  {
   "cell_type": "markdown",
   "id": "cdb0d609",
   "metadata": {},
   "source": [
    "## Weather Indicators\n",
    "\n",
    "Another possible indicator of heavy traffic is weather. The dataset provides us with a few useful columns about weather: 'temp', 'rain_1h', 'snow_1h', 'clouds_all', 'weather_main', 'weather_description'.\n",
    "\n",
    "We will find the correlation between the numerical weather columns and 'traffic_volume'."
   ]
  },
  {
   "cell_type": "code",
   "execution_count": 16,
   "id": "912badc5",
   "metadata": {},
   "outputs": [
    {
     "data": {
      "text/plain": [
       "temp              0.118084\n",
       "rain_1h           0.004020\n",
       "snow_1h           0.003768\n",
       "clouds_all       -0.033410\n",
       "traffic_volume    1.000000\n",
       "month            -0.017397\n",
       "dayofweek        -0.371023\n",
       "hour             -0.007369\n",
       "Name: traffic_volume, dtype: float64"
      ]
     },
     "execution_count": 16,
     "metadata": {},
     "output_type": "execute_result"
    }
   ],
   "source": [
    "daytime.corr()['traffic_volume']"
   ]
  },
  {
   "cell_type": "code",
   "execution_count": 17,
   "id": "c191f810",
   "metadata": {},
   "outputs": [
    {
     "data": {
      "image/png": "[encoded data removed]",
      "text/plain": [
       "<Figure size 432x288 with 1 Axes>"
      ]
     },
     "metadata": {
      "needs_background": "light"
     },
     "output_type": "display_data"
    }
   ],
   "source": [
    "# Generating a scatter plot.\n",
    "plt.scatter(daytime['traffic_volume'],daytime['temp'])\n",
    "plt.title('Traffic Volume and Temp Correlation')\n",
    "plt.xlabel('Traffic Volume: Cars per Hour')\n",
    "plt.ylabel('Temperature (K)')\n",
    "plt.ylim(200,325)\n",
    "plt.grid()\n",
    "plt.show()"
   ]
  },
  {
   "cell_type": "markdown",
   "id": "e601db5c",
   "metadata": {},
   "source": [
    "Although temperature and traffic volume have the strongest correlation of all the numerical weather columns, the scatter plot shows that this is not a reliable indicator for heavy traffic.\n",
    "\n",
    "It is not a reliable indicator because one degree K will not give you an idea of how heavy traffic might be, per the scatter plot."
   ]
  },
  {
   "cell_type": "markdown",
   "id": "8dd8fdf2",
   "metadata": {},
   "source": [
    "## Weather Types\n",
    "\n",
    "To see if we can find more useful data, we'll look next at the categorical weather-related columns: 'weather_main' and 'weather_description'.  We're going to calculate the average traffic volume associated with each unique value in these two columns."
   ]
  },
  {
   "cell_type": "code",
   "execution_count": 18,
   "id": "ef091787",
   "metadata": {},
   "outputs": [],
   "source": [
    "# Calculating the average traffic volume associated with each unique \n",
    "# value in these two columns.\n",
    "by_weather_main = daytime.groupby('weather_main').mean()\n",
    "by_weather_description = daytime.groupby('weather_description').mean()"
   ]
  },
  {
   "cell_type": "code",
   "execution_count": 34,
   "id": "830f1940",
   "metadata": {},
   "outputs": [
    {
     "data": {
      "image/png": "[encoded data removed]",
      "text/plain": [
       "<Figure size 432x288 with 1 Axes>"
      ]
     },
     "metadata": {
      "needs_background": "light"
     },
     "output_type": "display_data"
    }
   ],
   "source": [
    "# Plotting the first horizontal bar plot.\n",
    "by_weather_main['traffic_volume'].plot.barh()\n",
    "plt.xlabel('Traffic Volume: Cars per Hour')\n",
    "plt.ylabel('Current Weather')\n",
    "plt.xlim(4000,5000)\n",
    "plt.show()"
   ]
  },
  {
   "cell_type": "markdown",
   "id": "27a30df4",
   "metadata": {},
   "source": [
    "None of the weather events create heavier traffic than about 4750 cars per hour.  The main weather types that are the best heavy traffic indicators are clouds, drizzle, and rain.  Clear weather is also a heavy traffic indicator, which shows that weather types may not necessarily indicate heavy traffic."
   ]
  },
  {
   "cell_type": "code",
   "execution_count": 54,
   "id": "33849cac",
   "metadata": {},
   "outputs": [
    {
     "data": {
      "image/png": "[encoded data removed]",
      "text/plain": [
       "<Figure size 720x720 with 1 Axes>"
      ]
     },
     "metadata": {
      "needs_background": "light"
     },
     "output_type": "display_data"
    }
   ],
   "source": [
    "# Plotting the second horizontal bar plot.\n",
    "plt.figure(figsize=(10,10))\n",
    "by_weather_description['traffic_volume'].plot.barh()\n",
    "plt.xlabel('Traffic Volume: Cars per Hour')\n",
    "plt.ylabel('Current Weather')\n",
    "plt.xlim(2000,6000)\n",
    "plt.show()"
   ]
  },
  {
   "cell_type": "markdown",
   "id": "84927049",
   "metadata": {},
   "source": [
    "There are 3 weather types that create heavier traffic than 5000 cars per hour: 'shower snow', 'proximity thunderstorm with rain', and 'light rain and show'.  The rest of the weather types are between 4000 and 5000.  \n",
    "\n",
    "It is tough to find clear heavy traffic indicators from weather types when most of them show that they cause about the same amount of traffic.  "
   ]
  },
  {
   "cell_type": "markdown",
   "id": "916a015a",
   "metadata": {},
   "source": [
    "# Conclusion"
   ]
  },
  {
   "cell_type": "markdown",
   "id": "73664c6c",
   "metadata": {},
   "source": [
    "The goal of the project was to look for indicators of heavy traffic.\n",
    "\n",
    "When we looked at day vs night, there was a stark difference in heavy traffic.  Therefore we took out the night time data and looked closer to the day time data.\n",
    "\n",
    "Within the day time data, we looked at 1.  Time Indicators and 2.  Weather Indicators:\n",
    "- The first time indicator, month, showed that from about November to February there is little traffic.  From March to October there is significantly more traffic.\n",
    "- The second time indicator, day of the week, from Monday to Friday there is significantly more traffic than Saturday and Sunday.\n",
    "- In the third time indicator, time of day, we split the time of day to find the averages of each hour within business days and weekend days.  Business hours showed two major spikes in the morning and then the evening.  The weekend hours showed rising traffic in the morning and flattening out for most of the day.  Business hours had much heavier traffic overall compared to weekend hours.\n",
    "\n",
    "Within weather indicators we looked for the strongest correlation between traffic volume and all the numeric weather columns.  Temperature had the strongest correlation but the scatter plot showed that this was not a reliable heavy traffic indicator.  We looked closer at the categorical weather-related columns.  Much like temperature, the categorical weather-related columns were not reliable heavy traffic indicators.  Most of these columns caused a similar amount of traffic, you cannot use that data to predict how heavy traffic would be."
   ]
  }
 ],
 "metadata": {
  "kernelspec": {
   "display_name": "Python 3",
   "language": "python",
   "name": "python3"
  },
  "language_info": {
   "codemirror_mode": {
    "name": "ipython",
    "version": 3
   },
   "file_extension": ".py",
   "mimetype": "text/x-python",
   "name": "python",
   "nbconvert_exporter": "python",
   "pygments_lexer": "ipython3",
   "version": "3.8.8"
  }
 },
 "nbformat": 4,
 "nbformat_minor": 5
}
